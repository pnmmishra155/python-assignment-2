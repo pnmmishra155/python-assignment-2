{
  "nbformat": 4,
  "nbformat_minor": 0,
  "metadata": {
    "colab": {
      "provenance": []
    },
    "kernelspec": {
      "name": "python3",
      "display_name": "Python 3"
    },
    "language_info": {
      "name": "python"
    }
  },
  "cells": [
    {
      "cell_type": "markdown",
      "source": [
        "## Data Types and Structures Questions"
      ],
      "metadata": {
        "id": "UfC53t5OxBGg"
      }
    },
    {
      "cell_type": "markdown",
      "source": [
        "1. What are data structures, and why are they important?\n",
        "\n",
        " Data structures are tools that help you organize and manage data efficiently in your programs. They allow you to store collections of data and perform operations like insertion, deletion, sorting, and searching.they are like containers that hold your data and determine how you can interact with it. Different containers are better suited for different types of items.\n",
        "\n",
        "Importance of data structure:\n",
        "\n",
        "1.Choosing the right data structure significantly impacts the efficiency and performance of your program.\n",
        "\n",
        "2.Well-chosen data structures can:\n",
        "- Simplify data manipulation (adding, removing, modifying elements)\n",
        "- Optimize searching and sorting operations\n",
        "- Conserve memory usage"
      ],
      "metadata": {
        "id": "wIcn1_dGvj6m"
      }
    },
    {
      "cell_type": "markdown",
      "source": [
        "2. Explain the difference between mutable and immutable data types with examples.\n",
        "\n",
        " Mutable objects can be changed after creation. This means you can modify, add, or delete their elements in place, without changing their identity (memory address).\n",
        "\n",
        "Examples:\n",
        "- List\n",
        "- Dictionary\n",
        "- Set\n",
        "\n",
        " Immutable objects cannot be changed after creation. Any operation that seems to modify them actually creates a new object.\n",
        "\n",
        "Examples:\n",
        "- Integer\n",
        "- Float\n",
        "- String\n",
        "- Tuple\n",
        "- Boolean"
      ],
      "metadata": {
        "id": "HRg1Wwf6vjp8"
      }
    },
    {
      "cell_type": "markdown",
      "source": [
        "3. What are the main differences between lists and tuples in Python?\n",
        "\n",
        "List -\n",
        "\n",
        "- Ordered, mutable collections of elements. Think of shopping lists or task lists. Lists can hold items of various data types (numbers, strings, even other lists!).\n",
        "-  Can add, remove, or modify elements within a list using indexing and slicing. Lists are versatile for storing and managing collections that might change.\n",
        "\n",
        "Tuple -\n",
        "- Ordered, immutable collections of elements, similar to lists. However, once created, the items in a tuple cannot be changed. They provide a secure way to store data that shouldn't be modified.\n",
        "- Can access elements using indexing and slicing, but you cannot modify the content. Tuples are useful for representing fixed datasets or configurations.\n"
      ],
      "metadata": {
        "id": "DHSCdmMRvj9D"
      }
    },
    {
      "cell_type": "markdown",
      "source": [
        "4. Describe how dictionaries store data.\n",
        "- Dictionary stores data in key-value pair.\n",
        " Each key acts as a unique identifier for retrieving an associated value.\n",
        "-  Keys must be immutable (e.g., strings, numbers, tuples with only immutables).\n",
        "\n",
        "- Values can be anything — mutable or immutable.\n",
        "\n"
      ],
      "metadata": {
        "id": "ewriVqvtvkAf"
      }
    },
    {
      "cell_type": "markdown",
      "source": [
        "5. Why might you use a set instead of a list in Python?\n",
        "\n",
        "- Set can be use instead of List in python because :-\n",
        "\n",
        "- Sets automatically remove duplicates, while lists allow them.\n",
        "\n",
        "- Sets are faster than lists for checking whether an item exists.\n",
        "\n",
        "- Sets support powerful mathematical operations like:\n",
        "\n",
        "  Union (set1 | set2)\n",
        "\n",
        "  Intersection (set1 & set2)\n",
        "\n",
        "  Difference (set1 - set2)\n",
        "\n",
        "  Symmetric difference (set1 ^ set2)\n",
        "\n",
        "- These are cleaner and more efficient than using loops on lists.\n"
      ],
      "metadata": {
        "id": "H1GH7kPLwnBV"
      }
    },
    {
      "cell_type": "markdown",
      "source": [
        "6. What is a string in Python, and how is it different from a list?\n",
        "\n",
        "strings :-\n",
        "- string Data type is a Sequence of character\n",
        "- string is Immutable (cannot be changed)\n",
        "- string is Enclosed by\tQuotes (' or \")\n",
        "- example\t\"hello\"\n",
        "- methods use is String-specific (e.g. .upper(), .find())\n",
        "\n",
        "list :-\n",
        "- liist data type is a Sequence of elements (any type)\n",
        "-list is Mutable (can be changed)\n",
        "- list is Enclosed by Square brackets ([])\n",
        "- example ['h', 'e', 'l', 'l', 'o']\n",
        "methods use is List-specific (e.g. .append(), .sort())\n"
      ],
      "metadata": {
        "id": "QztaukqOwnD7"
      }
    },
    {
      "cell_type": "markdown",
      "source": [
        "7. How do tuples ensure data integrity in Python?\n",
        "\n",
        "Tuples ensure data integrity in Python by:\n",
        "- Being immutable and hashable ensures that the data remains fixed and consistent throughout the program.\n",
        "- Allowing safe usage in sets/dicts where data integrity is critical.\n",
        "- Supporting structured, read-only data where the number and type of fields shouldn't change.\n",
        "- Preventing accidental changes that makes programs easier to understand and less error-prone.\n",
        "\n"
      ],
      "metadata": {
        "id": "NaXnIlIfwnGb"
      }
    },
    {
      "cell_type": "markdown",
      "source": [
        "8. What is a hash table, and how does it relate to dictionaries in Python?\n",
        "\n",
        "\n",
        "A hash table is a data structure that stores key-value pairs and allows fast access to values based on their keys using a technique called hashing.\n",
        "\n",
        "In Python, a dictionariws is implemented using a hash table, for eg :\n",
        "\n",
        "user = {\"name\": \"Alice\", \"age\": 30}\n",
        "\n",
        "Hashes the keys \"name\" and \"age\".\n",
        "\n",
        "Stores their associated values (\"Alice\", 30) at computed positions in memory using a hash table.\n",
        "\n",
        "This makes dictionary operations like user[\"name\"] extremely fast.\n",
        "\n"
      ],
      "metadata": {
        "id": "NV-bsRlrwnJB"
      }
    },
    {
      "cell_type": "markdown",
      "source": [
        "9. Can lists contain different data types in Python?\n",
        "\n",
        " lists can contain different data types in Python\n",
        "\n",
        " example :-\n",
        "\n",
        " my_list = [1, \"hello\", 3.14, True, [2, 3], {\"key\": \"value\"}]\n",
        "print(my_list)\n",
        "\n",
        "In the above list:\n",
        "\n",
        "1 is an integer.\n",
        "\n",
        "\"hello\" is a string.\n",
        "\n",
        "3.14 is a float.\n",
        "\n",
        "True is a boolean.\n",
        "\n",
        "[2, 3] is another list (nested list).\n",
        "\n",
        "{\"key\": \"value\"} is a dictionary."
      ],
      "metadata": {
        "id": "gZEZARxXwnLj"
      }
    },
    {
      "cell_type": "markdown",
      "source": [
        "10. Explain why strings are immutable in Python.\n",
        "\n",
        "Strings are immutable in Python, meaning once a string is created, it cannot be changed. Instead, any operation that modifies a string returns a new string. This design has several important reasons and benefits:\n",
        "- Interning\tSaves memory, improves performance\n",
        "- Hashability\tAllows use as dict/set keys\n",
        "- Safety\tPrevents accidental changes\n",
        "- Thread Safety\tSafe to use across threads\n",
        "\n"
      ],
      "metadata": {
        "id": "nOhTseIQwnOP"
      }
    },
    {
      "cell_type": "markdown",
      "source": [
        "11. What advantages do dictionaries offer over lists for certain tasks?\n",
        "\n",
        " Advantages of Dictionaries over Lists in Python:\n",
        "- Faster Lookups: Accessing data by key is much quicker (O(1)), unlike lists which require searching (O(n)).\n",
        "- Key–Value Pairing: Dictionaries store data with meaningful keys, making code more readable and organized.\n",
        "- No Need for Indexing: You don’t have to remember positions—just use descriptive keys.\n",
        "- Flexible Structure: Easily add, update, or remove items without worrying about order.\n",
        "- Great for Sparse Data: Store only the necessary values without wasting memory.\n",
        "- dictionaries are used when you need to map one thing to another (like names to phone numbers).\n",
        "- lists are used when you just need an ordered collection of items."
      ],
      "metadata": {
        "id": "UJQEQuLAwnQo"
      }
    },
    {
      "cell_type": "markdown",
      "source": [
        "12. Describe a scenario where using a tuple would be preferable over a list.\n",
        "\n",
        "A tuple is preferable over a list when you need to store a fixed collection of values that should not change.\n",
        "\n",
        "Using a tuple here is better than a list because:\n",
        "- The returned values are fixed in number and meaning.\n",
        "- You don’t intend to modify the contents later.\n",
        "- Tuples are more efficient and signal that the data is read-only.\n",
        "\n"
      ],
      "metadata": {
        "id": "5xS8lk-ownUD"
      }
    },
    {
      "cell_type": "markdown",
      "source": [
        "13. How do sets handle duplicate values in Python?\n",
        "\n",
        "Sets in Python automatically remove duplicates.\n",
        "They store only unique elements, so any repeated values are ignored.\n",
        "Sets are unordered collections backed by a hash table.\n",
        "\n",
        "When an element is added, Python checks if it’s already in the set.\n",
        "If it's a duplicate, it’s ignored.\n",
        "\n"
      ],
      "metadata": {
        "id": "sijBfRVdxAa-"
      }
    },
    {
      "cell_type": "markdown",
      "source": [
        "14. How does the “in” keyword work differently for lists and dictionaries?\n",
        "\n",
        "In a list, in checks for a value.\n",
        "\n",
        "In a dictionary, in checks for a key. (use value in dict.values() to check values)"
      ],
      "metadata": {
        "id": "P9QPRqdbxAdZ"
      }
    },
    {
      "cell_type": "markdown",
      "source": [
        "15. Can you modify the elements of a tuple? Explain why or why not.\n",
        "\n",
        "No, you cannot modify the elements of a tuple because tuples are immutable in Python.\n",
        "\n",
        "Once a tuple is created, its elements cannot be changed, added, or removed. This design ensures data integrity and allows tuples to be used as keys in dictionaries."
      ],
      "metadata": {
        "id": "EhnLOHPKxAfy"
      }
    },
    {
      "cell_type": "markdown",
      "source": [
        "16. What is a nested dictionary, and give an example of its use case?\n",
        "\n",
        "A nested dictionary is a dictionary where values are themselves dictionaries.\n",
        "\n",
        "Use Case: Storing structured data like student records\n",
        "Example:\n",
        "\n",
        "students =\n",
        "\n",
        " {\n",
        "\n",
        "    \"101\": {\"name\": \"Alice\", \"age\": 20},\n",
        "\n",
        "    \"102\": {\"name\": \"Bob\", \"age\": 22}\n",
        "}\n",
        "\n",
        "print(students[\"101\"][\"name\"])  \n",
        " Output: Alice"
      ],
      "metadata": {
        "id": "WK_R5SJxxAjp"
      }
    },
    {
      "cell_type": "markdown",
      "source": [
        "17. Describe the time complexity of accessing elements in a dictionary."
      ],
      "metadata": {
        "id": "ruuLLOjxxAmX"
      }
    },
    {
      "cell_type": "markdown",
      "source": [
        "18. In what situations are lists preferred over dictionaries?\n",
        "\n",
        "Lists are preferred over dictionaries when:\n",
        "\n",
        "Order matters – Lists maintain item order and support indexing.\n",
        "\n",
        "You need a simple sequence – For storing items without key-value pairs.\n",
        "\n",
        "Duplicates are allowed – Unlike sets or keys in dictionaries.\n",
        "\n",
        "Data is accessed by position – Use indexes like list[0], list[1].\n",
        "\n",
        "Example:\n",
        "\n",
        "fruits = [\"apple\", \"banana\", \"cherry\"]"
      ],
      "metadata": {
        "id": "jsoKxdRlxApx"
      }
    },
    {
      "cell_type": "markdown",
      "source": [
        "19. Why are dictionaries considered unordered, and how does that affect data retrieval?\n",
        "\n",
        "Dictionaries are considered unordered because their elements are accessed by keys, not position.\n",
        "\n",
        "Impact on Data Retrieval:\n",
        "\n",
        "Items can't be accessed by index (like dict[0]).\n",
        "\n",
        "Values must be retrieve by using keys.\n",
        "\n",
        "Example:\n",
        "\n",
        "user = {\"name\": \"Alice\", \"age\": 25}\n",
        "\n",
        "print(user[\"name\"])"
      ],
      "metadata": {
        "id": "PVNbDs85xAvn"
      }
    },
    {
      "cell_type": "markdown",
      "source": [
        "20. Explain the difference between a list and a dictionary in terms of data retrieval.\n",
        "Lists:-\n",
        "- lists are used when order and position matter.\n",
        "- Retrieves data by index (numeric position).\n",
        "\n",
        "Dictionary:-\n",
        "- dictionaries are used when labeled, structured data is needed.\n",
        "- Retrieves data by key (a unique label).\n",
        ""
      ],
      "metadata": {
        "id": "DuET0h7JxA__"
      }
    },
    {
      "cell_type": "markdown",
      "source": [
        "## Practical"
      ],
      "metadata": {
        "id": "ud9Q3ZuEprQv"
      }
    },
    {
      "cell_type": "code",
      "source": [
        "# 1. Write a code to create a string with your name and print it.\n",
        "name = \"Poonam Mishra\"\n",
        "print(name)"
      ],
      "metadata": {
        "colab": {
          "base_uri": "https://localhost:8080/"
        },
        "id": "QFdiz1SWftPJ",
        "outputId": "a9a5fc6a-0d90-419d-e2af-5d1eb205e96b"
      },
      "execution_count": 30,
      "outputs": [
        {
          "output_type": "stream",
          "name": "stdout",
          "text": [
            "Poonam Mishra\n"
          ]
        }
      ]
    },
    {
      "cell_type": "code",
      "source": [
        "# 2. Write a code to find the length of the string \"Hello World\".\n",
        "text = \"Hello World\"\n",
        "print(len(text))"
      ],
      "metadata": {
        "colab": {
          "base_uri": "https://localhost:8080/"
        },
        "id": "VRK_nPkWfzGo",
        "outputId": "6f0ba7ff-9554-4c28-9462-e6457ed1b7be"
      },
      "execution_count": 31,
      "outputs": [
        {
          "output_type": "stream",
          "name": "stdout",
          "text": [
            "11\n"
          ]
        }
      ]
    },
    {
      "cell_type": "code",
      "source": [
        "# 3. Write a code to slice the first 3 characters from the string \"Python Programming\".\n",
        "text = \"Python Programming\"\n",
        "slice = text[:3]\n",
        "print(slice)"
      ],
      "metadata": {
        "colab": {
          "base_uri": "https://localhost:8080/"
        },
        "id": "rjdaYGgVf6YQ",
        "outputId": "3762d6d2-27f9-43c7-8146-77cd7a9fdd8d"
      },
      "execution_count": 32,
      "outputs": [
        {
          "output_type": "stream",
          "name": "stdout",
          "text": [
            "Pyt\n"
          ]
        }
      ]
    },
    {
      "cell_type": "code",
      "source": [
        "# 4. Write a code to convert the string \"hello\" to uppercase.\n",
        "text = \"hello\"\n",
        "print(text.upper())"
      ],
      "metadata": {
        "colab": {
          "base_uri": "https://localhost:8080/"
        },
        "id": "yIe5-nazgCqK",
        "outputId": "d0a121b4-bc8f-45bb-e10e-3d1039e8ad4b"
      },
      "execution_count": 33,
      "outputs": [
        {
          "output_type": "stream",
          "name": "stdout",
          "text": [
            "HELLO\n"
          ]
        }
      ]
    },
    {
      "cell_type": "code",
      "source": [
        "# 5. Write a code to replace the word \"apple\" with \"orange\" in the string \"I like apple\".\n",
        "text = \"I like apple\"\n",
        "new_text = text.replace(\"apple\", \"orange\")\n",
        "print(new_text)"
      ],
      "metadata": {
        "colab": {
          "base_uri": "https://localhost:8080/"
        },
        "id": "f_LVISu_gJC_",
        "outputId": "2e5f2ce2-b4a9-4e01-8c1d-3d2400ab96a9"
      },
      "execution_count": 34,
      "outputs": [
        {
          "output_type": "stream",
          "name": "stdout",
          "text": [
            "I like orange\n"
          ]
        }
      ]
    },
    {
      "cell_type": "code",
      "source": [
        "# 6. Write a code to create a list with numbers 1 to 5 and print it.\n",
        "numbers = [1, 2, 3, 4, 5]\n",
        "print(numbers)"
      ],
      "metadata": {
        "colab": {
          "base_uri": "https://localhost:8080/"
        },
        "id": "R9rHivUGgOGD",
        "outputId": "91c14003-35c2-4246-c040-b132b0867ab9"
      },
      "execution_count": 35,
      "outputs": [
        {
          "output_type": "stream",
          "name": "stdout",
          "text": [
            "[1, 2, 3, 4, 5]\n"
          ]
        }
      ]
    },
    {
      "cell_type": "code",
      "source": [
        "# 7. Write a code to append the number 10 to the list [1, 2, 3, 4].\n",
        "numbers = [1, 2, 3, 4]\n",
        "numbers.append(10)\n",
        "print(numbers)"
      ],
      "metadata": {
        "colab": {
          "base_uri": "https://localhost:8080/"
        },
        "id": "tdBCSDLfgUAA",
        "outputId": "4a131e1d-0124-457e-af56-d5504e10bb0d"
      },
      "execution_count": 36,
      "outputs": [
        {
          "output_type": "stream",
          "name": "stdout",
          "text": [
            "[1, 2, 3, 4, 10]\n"
          ]
        }
      ]
    },
    {
      "cell_type": "code",
      "source": [
        "# 8. Write a code to remove the number 3 from the list [1, 2, 3, 4, 5].\n",
        "numbers = [1, 2, 3, 4, 5]\n",
        "numbers.remove(3)\n",
        "print(numbers)"
      ],
      "metadata": {
        "colab": {
          "base_uri": "https://localhost:8080/"
        },
        "id": "y1LO9tCSggXf",
        "outputId": "7ea652e1-7617-4dcc-8199-ed15e7767e0e"
      },
      "execution_count": 37,
      "outputs": [
        {
          "output_type": "stream",
          "name": "stdout",
          "text": [
            "[1, 2, 4, 5]\n"
          ]
        }
      ]
    },
    {
      "cell_type": "code",
      "source": [
        "# 9. Write a code to access the second element in the list ['a', 'b', 'c', 'd'].\n",
        "letters = ['a', 'b', 'c', 'd']\n",
        "print(letters[1])"
      ],
      "metadata": {
        "colab": {
          "base_uri": "https://localhost:8080/"
        },
        "id": "zWJx7aXxg4vL",
        "outputId": "9b1381ec-b8d7-480d-fb41-e7ef8c289e5e"
      },
      "execution_count": 39,
      "outputs": [
        {
          "output_type": "stream",
          "name": "stdout",
          "text": [
            "b\n"
          ]
        }
      ]
    },
    {
      "cell_type": "code",
      "source": [
        "# 10. Write a code to reverse the list [10, 20, 30, 40, 50].\n",
        "numbers = [10, 20, 30, 40, 50]\n",
        "reversed_numbers = numbers[::-1]\n",
        "print(reversed_numbers)"
      ],
      "metadata": {
        "colab": {
          "base_uri": "https://localhost:8080/"
        },
        "id": "hoXFgUk7hPxT",
        "outputId": "d9a6c30e-2912-483f-817e-7d2cfc62fef2"
      },
      "execution_count": 40,
      "outputs": [
        {
          "output_type": "stream",
          "name": "stdout",
          "text": [
            "[50, 40, 30, 20, 10]\n"
          ]
        }
      ]
    },
    {
      "cell_type": "code",
      "source": [
        "# 11. Write a code to create a tuple with the elements 100, 200, 300 and print it.\n",
        "numbers = (100, 200, 300)\n",
        "print(numbers)"
      ],
      "metadata": {
        "colab": {
          "base_uri": "https://localhost:8080/"
        },
        "id": "qS580-KNhRi-",
        "outputId": "3a05e7a0-dc9c-4d9a-b3dd-63eff87effa3"
      },
      "execution_count": 41,
      "outputs": [
        {
          "output_type": "stream",
          "name": "stdout",
          "text": [
            "(100, 200, 300)\n"
          ]
        }
      ]
    },
    {
      "cell_type": "code",
      "source": [
        "# 12. Write a code to access the second-to-last element of the tuple ('red', 'green', 'blue', 'yellow').\n",
        "colors = ('red', 'green', 'blue', 'yellow')\n",
        "print(colors[-2])"
      ],
      "metadata": {
        "colab": {
          "base_uri": "https://localhost:8080/"
        },
        "id": "MFfEdPdThdH9",
        "outputId": "dc52e23c-bca1-46af-b163-82eae959e1b0"
      },
      "execution_count": 43,
      "outputs": [
        {
          "output_type": "stream",
          "name": "stdout",
          "text": [
            "blue\n"
          ]
        }
      ]
    },
    {
      "cell_type": "code",
      "source": [
        "# 13. Write a code to find the minimum number in the tuple (10, 20, 5, 15).\n",
        "numbers = (10, 20, 5, 15)\n",
        "print(min(numbers))"
      ],
      "metadata": {
        "colab": {
          "base_uri": "https://localhost:8080/"
        },
        "id": "5dMyju4tnLau",
        "outputId": "7b6ee6f3-6577-43b9-f253-e9afc49bbf71"
      },
      "execution_count": 44,
      "outputs": [
        {
          "output_type": "stream",
          "name": "stdout",
          "text": [
            "5\n"
          ]
        }
      ]
    },
    {
      "cell_type": "code",
      "source": [
        "# 14. Write a code to find the index of the element \"cat\" in the tuple ('dog', 'cat', 'rabbit').\n",
        "animals = ('dog', 'cat', 'rabbit')\n",
        "for i in range(len(animals)):\n",
        "    if animals[i] == \"cat\":\n",
        "        print(i)\n",
        "        break"
      ],
      "metadata": {
        "colab": {
          "base_uri": "https://localhost:8080/"
        },
        "id": "zi-HAMLOnQF2",
        "outputId": "d38b2f2c-c769-4468-ad5b-0fe24332435c"
      },
      "execution_count": 46,
      "outputs": [
        {
          "output_type": "stream",
          "name": "stdout",
          "text": [
            "1\n"
          ]
        }
      ]
    },
    {
      "cell_type": "code",
      "source": [
        "# 15. Write a code to create a tuple containing three different fruits and check if \"kiwi\" is in it.\n",
        "fruits = (\"apple\", \"banana\", \"orange\")\n",
        "print(\"kiwi\" in fruits)"
      ],
      "metadata": {
        "colab": {
          "base_uri": "https://localhost:8080/"
        },
        "id": "lE9v6gVFnVH3",
        "outputId": "648f3b42-80f2-4664-a9bc-457f144d8523"
      },
      "execution_count": 47,
      "outputs": [
        {
          "output_type": "stream",
          "name": "stdout",
          "text": [
            "False\n"
          ]
        }
      ]
    },
    {
      "cell_type": "code",
      "source": [
        "# 16. Write a code to create a set with the elements 'a', 'b', 'c' and print it.\n",
        "letters = {'a', 'b', 'c'}\n",
        "print(letters)"
      ],
      "metadata": {
        "colab": {
          "base_uri": "https://localhost:8080/"
        },
        "id": "dDM_4fIqnwW6",
        "outputId": "06b581bf-bb65-44ea-e542-dd8e7e88cc2c"
      },
      "execution_count": 48,
      "outputs": [
        {
          "output_type": "stream",
          "name": "stdout",
          "text": [
            "{'b', 'a', 'c'}\n"
          ]
        }
      ]
    },
    {
      "cell_type": "code",
      "source": [
        "# 17. Write a code to clear all elements from the set {1, 2, 3, 4, 5}.\n",
        "numbers = {1, 2, 3, 4, 5}\n",
        "numbers.clear()\n",
        "print(numbers)"
      ],
      "metadata": {
        "colab": {
          "base_uri": "https://localhost:8080/"
        },
        "id": "VWBZIDCun23C",
        "outputId": "a335f978-8498-4b62-ef1d-888c39cd37ff"
      },
      "execution_count": 49,
      "outputs": [
        {
          "output_type": "stream",
          "name": "stdout",
          "text": [
            "set()\n"
          ]
        }
      ]
    },
    {
      "cell_type": "code",
      "source": [
        "# 18. Write a code to remove the element 4 from the set {1, 2, 3, 4}.\n",
        "numbers = {1, 2, 3, 4}\n",
        "numbers.remove(4)\n",
        "print(numbers)"
      ],
      "metadata": {
        "colab": {
          "base_uri": "https://localhost:8080/"
        },
        "id": "ljlqORHmoBvR",
        "outputId": "45a369d9-62fe-482f-85a6-98af52809877"
      },
      "execution_count": 50,
      "outputs": [
        {
          "output_type": "stream",
          "name": "stdout",
          "text": [
            "{1, 2, 3}\n"
          ]
        }
      ]
    },
    {
      "cell_type": "code",
      "source": [
        "# 19. Write a code to find the union of two sets {1, 2, 3} and {3, 4, 5}.\n",
        "set1 = {1, 2, 3}\n",
        "set2 = {3, 4, 5}\n",
        "union_set = set1.union(set2)\n",
        "print(union_set)"
      ],
      "metadata": {
        "colab": {
          "base_uri": "https://localhost:8080/"
        },
        "id": "cqdpYWzQoFKH",
        "outputId": "c6dabaf1-e2fd-4638-c719-937b1278fe45"
      },
      "execution_count": 51,
      "outputs": [
        {
          "output_type": "stream",
          "name": "stdout",
          "text": [
            "{1, 2, 3, 4, 5}\n"
          ]
        }
      ]
    },
    {
      "cell_type": "code",
      "source": [
        "# 20. Write a code to find the intersection of two sets {1, 2, 3} and {2, 3, 4}.\n",
        "set1 = {1, 2, 3}\n",
        "set2 = {2, 3, 4}\n",
        "intersection_set = set1.intersection(set2)\n",
        "print(intersection_set)"
      ],
      "metadata": {
        "colab": {
          "base_uri": "https://localhost:8080/"
        },
        "id": "jgcOsfXKoJ7P",
        "outputId": "c764e187-684d-4999-a741-c94736d46338"
      },
      "execution_count": 52,
      "outputs": [
        {
          "output_type": "stream",
          "name": "stdout",
          "text": [
            "{2, 3}\n"
          ]
        }
      ]
    },
    {
      "cell_type": "code",
      "source": [
        "# 21. Write a code to create a dictionary with the keys \"name\", \"age\", and \"city\", and print it.\n",
        "person = {\n",
        "    \"name\": \"Alice\",\n",
        "    \"age\": 25,\n",
        "    \"city\": \"New York\"\n",
        "}\n",
        "\n",
        "print(person)"
      ],
      "metadata": {
        "colab": {
          "base_uri": "https://localhost:8080/"
        },
        "id": "LAtznIsBoO7v",
        "outputId": "0b73daba-4e70-4e77-98a0-5f53646621a0"
      },
      "execution_count": 53,
      "outputs": [
        {
          "output_type": "stream",
          "name": "stdout",
          "text": [
            "{'name': 'Alice', 'age': 25, 'city': 'New York'}\n"
          ]
        }
      ]
    },
    {
      "cell_type": "code",
      "source": [
        "# 22. Write a code to add a new key-value pair \"country\": \"USA\" to the dictionary {'name': 'John', 'age': 25}.\n",
        "person = {'name': 'John', 'age': 25}\n",
        "person['country'] = 'USA'\n",
        "print(person)"
      ],
      "metadata": {
        "colab": {
          "base_uri": "https://localhost:8080/"
        },
        "id": "AswoL-F9oSqC",
        "outputId": "2982b2b4-3ba7-40f8-feec-8a09f90caa02"
      },
      "execution_count": 54,
      "outputs": [
        {
          "output_type": "stream",
          "name": "stdout",
          "text": [
            "{'name': 'John', 'age': 25, 'country': 'USA'}\n"
          ]
        }
      ]
    },
    {
      "cell_type": "code",
      "source": [
        "# 23. Write a code to access the value associated with the key \"name\" in the dictionary {'name': 'Alice', 'age': 30}.\n",
        "person = {'name': 'Alice', 'age': 30}\n",
        "print(person['name'])"
      ],
      "metadata": {
        "colab": {
          "base_uri": "https://localhost:8080/"
        },
        "id": "sJtCIq3WoZZa",
        "outputId": "8b3dbc29-7623-4c84-f083-73607d552c1e"
      },
      "execution_count": 55,
      "outputs": [
        {
          "output_type": "stream",
          "name": "stdout",
          "text": [
            "Alice\n"
          ]
        }
      ]
    },
    {
      "cell_type": "code",
      "source": [
        "# 24. Write a code to remove the key \"age\" from the dictionary {'name': 'Bob', 'age': 22, 'city': 'New York'}.\n",
        "person = {'name': 'Bob', 'age': 22, 'city': 'New York'}\n",
        "del person['age']\n",
        "print(person)"
      ],
      "metadata": {
        "colab": {
          "base_uri": "https://localhost:8080/"
        },
        "id": "9Psadq5NojHk",
        "outputId": "c112f72e-97b7-42c7-d3ab-05a286ccc347"
      },
      "execution_count": 56,
      "outputs": [
        {
          "output_type": "stream",
          "name": "stdout",
          "text": [
            "{'name': 'Bob', 'city': 'New York'}\n"
          ]
        }
      ]
    },
    {
      "cell_type": "code",
      "source": [
        "# 25. Write a code to check if the key \"city\" exists in the dictionary {'name': 'Alice', 'city': 'Paris'}.\n",
        "person = {'name': 'Alice', 'city': 'Paris'}\n",
        "print(\"city\" in person)"
      ],
      "metadata": {
        "colab": {
          "base_uri": "https://localhost:8080/"
        },
        "id": "KlCxrUMbon0R",
        "outputId": "c9d89cb7-e239-43a7-8a0c-cebdd9511de0"
      },
      "execution_count": 57,
      "outputs": [
        {
          "output_type": "stream",
          "name": "stdout",
          "text": [
            "True\n"
          ]
        }
      ]
    },
    {
      "cell_type": "code",
      "source": [
        "# 26. Write a code to create a list, a tuple, and a dictionary, and print them all.\n",
        "my_list = [1, 2, 3]\n",
        "my_tuple = (7, 8, 9)\n",
        "my_dict = {\"name\": \"Poonam\", \"age\": 29}\n",
        "\n",
        "print(\"List:\", my_list)\n",
        "print(\"Tuple:\", my_tuple)\n",
        "print(\"Dictionary:\", my_dict)"
      ],
      "metadata": {
        "colab": {
          "base_uri": "https://localhost:8080/"
        },
        "id": "fDdDSTiDowrF",
        "outputId": "394e7fa0-a2c6-4028-d29c-b9ca12e85cf9"
      },
      "execution_count": 58,
      "outputs": [
        {
          "output_type": "stream",
          "name": "stdout",
          "text": [
            "List: [1, 2, 3]\n",
            "Tuple: (7, 8, 9)\n",
            "Dictionary: {'name': 'Poonam', 'age': 29}\n"
          ]
        }
      ]
    },
    {
      "cell_type": "code",
      "source": [
        "# 27. Write a code to create a list of 5 random numbers between 1 and 100, sort it in ascending order, and print the result.(replaced)\n",
        "import random\n",
        "\n",
        "numbers = random.sample(range(1, 101), 5)\n",
        "numbers.sort()\n",
        "print(\"Sorted list:\", numbers)"
      ],
      "metadata": {
        "colab": {
          "base_uri": "https://localhost:8080/"
        },
        "id": "59jx9FSto0g1",
        "outputId": "11aa70f5-d0f4-452f-c70f-7ed9fe899c65"
      },
      "execution_count": 63,
      "outputs": [
        {
          "output_type": "stream",
          "name": "stdout",
          "text": [
            "Sorted list: [7, 19, 47, 86, 98]\n"
          ]
        }
      ]
    },
    {
      "cell_type": "code",
      "source": [
        "# 28. Write a code to create a list with strings and print the element at the third index.\n",
        "colors = [\"red\", \"blue\", \"green\", \"yellow\", \"purple\"]\n",
        "print(colors[3])"
      ],
      "metadata": {
        "colab": {
          "base_uri": "https://localhost:8080/"
        },
        "id": "o76jsneHpHHs",
        "outputId": "d036256f-2813-4f45-c8b2-7499a77b99ab"
      },
      "execution_count": 65,
      "outputs": [
        {
          "output_type": "stream",
          "name": "stdout",
          "text": [
            "yellow\n"
          ]
        }
      ]
    },
    {
      "cell_type": "code",
      "source": [
        "# 29. Write a code to combine two dictionaries into one and print the result.\n",
        "dict1 = {\"x\": 10, \"y\": 20}\n",
        "dict2 = {\"z\": 30, \"w\": 40}\n",
        "\n",
        "combined = dict1 | dict2\n",
        "print(combined)"
      ],
      "metadata": {
        "colab": {
          "base_uri": "https://localhost:8080/"
        },
        "id": "2OswaE80pL2c",
        "outputId": "207d87a8-e098-452f-a6ff-23bddeca2f23"
      },
      "execution_count": 67,
      "outputs": [
        {
          "output_type": "stream",
          "name": "stdout",
          "text": [
            "{'x': 10, 'y': 20, 'z': 30, 'w': 40}\n"
          ]
        }
      ]
    },
    {
      "cell_type": "code",
      "source": [
        "# 30. Write a code to convert a list of strings into a set.\n",
        "colors = [\"red\", \"blue\", \"green\", \"red\"]\n",
        "color_set = set(colors)\n",
        "print(color_set)"
      ],
      "metadata": {
        "colab": {
          "base_uri": "https://localhost:8080/"
        },
        "id": "mktqJgtypQxz",
        "outputId": "a90f5c7d-c6f0-45dc-bc35-0a350ce95dfc"
      },
      "execution_count": 68,
      "outputs": [
        {
          "output_type": "stream",
          "name": "stdout",
          "text": [
            "{'green', 'blue', 'red'}\n"
          ]
        }
      ]
    }
  ]
}